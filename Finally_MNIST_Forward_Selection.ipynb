{
 "cells": [
  {
   "cell_type": "code",
   "execution_count": 1,
   "id": "04109ddb",
   "metadata": {},
   "outputs": [
    {
     "name": "stdout",
     "output_type": "stream",
     "text": [
      "Requirement already satisfied: opencv-python in /Users/hediyeraisy/opt/anaconda3/envs/tf/lib/python3.10/site-packages (4.6.0.66)\n",
      "Requirement already satisfied: numpy>=1.19.3 in /Users/hediyeraisy/opt/anaconda3/envs/tf/lib/python3.10/site-packages (from opencv-python) (1.22.3)\n",
      "Requirement already satisfied: pandas in /Users/hediyeraisy/opt/anaconda3/envs/tf/lib/python3.10/site-packages (1.5.1)\n",
      "Requirement already satisfied: pytz>=2020.1 in /Users/hediyeraisy/opt/anaconda3/envs/tf/lib/python3.10/site-packages (from pandas) (2022.1)\n",
      "Requirement already satisfied: numpy>=1.21.0 in /Users/hediyeraisy/opt/anaconda3/envs/tf/lib/python3.10/site-packages (from pandas) (1.22.3)\n",
      "Requirement already satisfied: python-dateutil>=2.8.1 in /Users/hediyeraisy/opt/anaconda3/envs/tf/lib/python3.10/site-packages (from pandas) (2.8.2)\n",
      "Requirement already satisfied: six>=1.5 in /Users/hediyeraisy/opt/anaconda3/envs/tf/lib/python3.10/site-packages (from python-dateutil>=2.8.1->pandas) (1.16.0)\n",
      "Requirement already satisfied: matplotlib in /Users/hediyeraisy/opt/anaconda3/envs/tf/lib/python3.10/site-packages (3.6.2)\n",
      "Requirement already satisfied: pillow>=6.2.0 in /Users/hediyeraisy/opt/anaconda3/envs/tf/lib/python3.10/site-packages (from matplotlib) (9.3.0)\n",
      "Requirement already satisfied: cycler>=0.10 in /Users/hediyeraisy/opt/anaconda3/envs/tf/lib/python3.10/site-packages (from matplotlib) (0.11.0)\n",
      "Requirement already satisfied: packaging>=20.0 in /Users/hediyeraisy/opt/anaconda3/envs/tf/lib/python3.10/site-packages (from matplotlib) (21.3)\n",
      "Requirement already satisfied: contourpy>=1.0.1 in /Users/hediyeraisy/opt/anaconda3/envs/tf/lib/python3.10/site-packages (from matplotlib) (1.0.6)\n",
      "Requirement already satisfied: python-dateutil>=2.7 in /Users/hediyeraisy/opt/anaconda3/envs/tf/lib/python3.10/site-packages (from matplotlib) (2.8.2)\n",
      "Requirement already satisfied: numpy>=1.19 in /Users/hediyeraisy/opt/anaconda3/envs/tf/lib/python3.10/site-packages (from matplotlib) (1.22.3)\n",
      "Requirement already satisfied: kiwisolver>=1.0.1 in /Users/hediyeraisy/opt/anaconda3/envs/tf/lib/python3.10/site-packages (from matplotlib) (1.4.4)\n",
      "Requirement already satisfied: fonttools>=4.22.0 in /Users/hediyeraisy/opt/anaconda3/envs/tf/lib/python3.10/site-packages (from matplotlib) (4.38.0)\n",
      "Requirement already satisfied: pyparsing>=2.2.1 in /Users/hediyeraisy/opt/anaconda3/envs/tf/lib/python3.10/site-packages (from matplotlib) (3.0.9)\n",
      "Requirement already satisfied: six>=1.5 in /Users/hediyeraisy/opt/anaconda3/envs/tf/lib/python3.10/site-packages (from python-dateutil>=2.7->matplotlib) (1.16.0)\n",
      "Requirement already satisfied: seaborn in /Users/hediyeraisy/opt/anaconda3/envs/tf/lib/python3.10/site-packages (0.12.1)\n",
      "Requirement already satisfied: matplotlib!=3.6.1,>=3.1 in /Users/hediyeraisy/opt/anaconda3/envs/tf/lib/python3.10/site-packages (from seaborn) (3.6.2)\n",
      "Requirement already satisfied: pandas>=0.25 in /Users/hediyeraisy/opt/anaconda3/envs/tf/lib/python3.10/site-packages (from seaborn) (1.5.1)\n",
      "Requirement already satisfied: numpy>=1.17 in /Users/hediyeraisy/opt/anaconda3/envs/tf/lib/python3.10/site-packages (from seaborn) (1.22.3)\n",
      "Requirement already satisfied: contourpy>=1.0.1 in /Users/hediyeraisy/opt/anaconda3/envs/tf/lib/python3.10/site-packages (from matplotlib!=3.6.1,>=3.1->seaborn) (1.0.6)\n",
      "Requirement already satisfied: pillow>=6.2.0 in /Users/hediyeraisy/opt/anaconda3/envs/tf/lib/python3.10/site-packages (from matplotlib!=3.6.1,>=3.1->seaborn) (9.3.0)\n",
      "Requirement already satisfied: fonttools>=4.22.0 in /Users/hediyeraisy/opt/anaconda3/envs/tf/lib/python3.10/site-packages (from matplotlib!=3.6.1,>=3.1->seaborn) (4.38.0)\n",
      "Requirement already satisfied: python-dateutil>=2.7 in /Users/hediyeraisy/opt/anaconda3/envs/tf/lib/python3.10/site-packages (from matplotlib!=3.6.1,>=3.1->seaborn) (2.8.2)\n",
      "Requirement already satisfied: kiwisolver>=1.0.1 in /Users/hediyeraisy/opt/anaconda3/envs/tf/lib/python3.10/site-packages (from matplotlib!=3.6.1,>=3.1->seaborn) (1.4.4)\n",
      "Requirement already satisfied: cycler>=0.10 in /Users/hediyeraisy/opt/anaconda3/envs/tf/lib/python3.10/site-packages (from matplotlib!=3.6.1,>=3.1->seaborn) (0.11.0)\n",
      "Requirement already satisfied: pyparsing>=2.2.1 in /Users/hediyeraisy/opt/anaconda3/envs/tf/lib/python3.10/site-packages (from matplotlib!=3.6.1,>=3.1->seaborn) (3.0.9)\n",
      "Requirement already satisfied: packaging>=20.0 in /Users/hediyeraisy/opt/anaconda3/envs/tf/lib/python3.10/site-packages (from matplotlib!=3.6.1,>=3.1->seaborn) (21.3)\n",
      "Requirement already satisfied: pytz>=2020.1 in /Users/hediyeraisy/opt/anaconda3/envs/tf/lib/python3.10/site-packages (from pandas>=0.25->seaborn) (2022.1)\n",
      "Requirement already satisfied: six>=1.5 in /Users/hediyeraisy/opt/anaconda3/envs/tf/lib/python3.10/site-packages (from python-dateutil>=2.7->matplotlib!=3.6.1,>=3.1->seaborn) (1.16.0)\n",
      "Requirement already satisfied: sklearn in /Users/hediyeraisy/opt/anaconda3/envs/tf/lib/python3.10/site-packages (0.0)\n",
      "Requirement already satisfied: scikit-learn in /Users/hediyeraisy/opt/anaconda3/envs/tf/lib/python3.10/site-packages (from sklearn) (1.1.3)\n",
      "Requirement already satisfied: threadpoolctl>=2.0.0 in /Users/hediyeraisy/opt/anaconda3/envs/tf/lib/python3.10/site-packages (from scikit-learn->sklearn) (3.1.0)\n",
      "Requirement already satisfied: joblib>=1.0.0 in /Users/hediyeraisy/opt/anaconda3/envs/tf/lib/python3.10/site-packages (from scikit-learn->sklearn) (1.2.0)\n",
      "Requirement already satisfied: numpy>=1.17.3 in /Users/hediyeraisy/opt/anaconda3/envs/tf/lib/python3.10/site-packages (from scikit-learn->sklearn) (1.22.3)\n",
      "Requirement already satisfied: scipy>=1.3.2 in /Users/hediyeraisy/opt/anaconda3/envs/tf/lib/python3.10/site-packages (from scikit-learn->sklearn) (1.7.3)\n"
     ]
    }
   ],
   "source": [
    "from tensorflow import keras\n",
    "!pip3 install opencv-python\n",
    "import cv2\n",
    "import os\n",
    "import numpy as np\n",
    "!pip3 install pandas\n",
    "import pandas as pd\n",
    "!pip3 install matplotlib\n",
    "import matplotlib.pyplot as plt # for data visualization purposes\n",
    "!pip3 install seaborn\n",
    "import seaborn as sns # for statistical data visualization\n",
    "!pip3 install sklearn\n",
    "from sklearn.naive_bayes import MultinomialNB\n",
    "%matplotlib inline"
   ]
  },
  {
   "cell_type": "code",
   "execution_count": 2,
   "id": "26380fd2",
   "metadata": {},
   "outputs": [
    {
     "data": {
      "text/plain": [
       "(10000, 28, 28)"
      ]
     },
     "execution_count": 2,
     "metadata": {},
     "output_type": "execute_result"
    }
   ],
   "source": [
    "dataset = np.load('mnist.npz')\n",
    "lst = dataset.files\n",
    "data = []\n",
    "for item in lst:\n",
    "#     print(item)\n",
    "#     print(dataset[item])\n",
    "    data.append(dataset[item])\n",
    "    \n",
    "x_test = data[0]\n",
    "x_train = data[1]\n",
    "y_train = data[2]\n",
    "y_test = data[3]\n",
    "\n",
    "x_test = np.array(x_test)\n",
    "x_train = np.array(x_train)\n",
    "y_train = np.array(y_train)\n",
    "y_test = np.array(y_test)\n",
    "x_test.shape\n",
    "# (X_raw_train, y_train), (X_raw_test, y_test) = dataset.load_data()\n"
   ]
  },
  {
   "cell_type": "code",
   "execution_count": 3,
   "id": "a7a99576",
   "metadata": {},
   "outputs": [],
   "source": [
    "clf = MultinomialNB()"
   ]
  },
  {
   "cell_type": "code",
   "execution_count": 4,
   "id": "5070b893",
   "metadata": {},
   "outputs": [
    {
     "data": {
      "text/plain": [
       "(10000, 784)"
      ]
     },
     "execution_count": 4,
     "metadata": {},
     "output_type": "execute_result"
    }
   ],
   "source": [
    "num,x,y = x_test.shape\n",
    "x_test = x_test.reshape(num,x*y)\n",
    "x_test.shape"
   ]
  },
  {
   "cell_type": "code",
   "execution_count": 5,
   "id": "eb2d63ef",
   "metadata": {},
   "outputs": [
    {
     "data": {
      "text/plain": [
       "(60000, 28, 28)"
      ]
     },
     "execution_count": 5,
     "metadata": {},
     "output_type": "execute_result"
    }
   ],
   "source": [
    "x_train.shape"
   ]
  },
  {
   "cell_type": "code",
   "execution_count": 6,
   "id": "89b6fb1e",
   "metadata": {},
   "outputs": [],
   "source": [
    "num,x,y = x_train.shape\n",
    "x_train = x_train.reshape(num,x*y)"
   ]
  },
  {
   "cell_type": "code",
   "execution_count": 7,
   "id": "8bcce342",
   "metadata": {},
   "outputs": [
    {
     "data": {
      "text/plain": [
       "(60000, 784)"
      ]
     },
     "execution_count": 7,
     "metadata": {},
     "output_type": "execute_result"
    }
   ],
   "source": [
    "x_train.shape"
   ]
  },
  {
   "cell_type": "code",
   "execution_count": 8,
   "id": "5c2fdbe3",
   "metadata": {},
   "outputs": [
    {
     "data": {
      "text/plain": [
       "(10000,)"
      ]
     },
     "execution_count": 8,
     "metadata": {},
     "output_type": "execute_result"
    }
   ],
   "source": [
    "y_test.shape"
   ]
  },
  {
   "cell_type": "code",
   "execution_count": 9,
   "id": "ca881fde",
   "metadata": {},
   "outputs": [
    {
     "data": {
      "text/plain": [
       "(60000,)"
      ]
     },
     "execution_count": 9,
     "metadata": {},
     "output_type": "execute_result"
    }
   ],
   "source": [
    "y_train.shape"
   ]
  },
  {
   "cell_type": "code",
   "execution_count": 10,
   "id": "4706563d",
   "metadata": {},
   "outputs": [
    {
     "data": {
      "text/html": [
       "<style>#sk-container-id-1 {color: black;background-color: white;}#sk-container-id-1 pre{padding: 0;}#sk-container-id-1 div.sk-toggleable {background-color: white;}#sk-container-id-1 label.sk-toggleable__label {cursor: pointer;display: block;width: 100%;margin-bottom: 0;padding: 0.3em;box-sizing: border-box;text-align: center;}#sk-container-id-1 label.sk-toggleable__label-arrow:before {content: \"▸\";float: left;margin-right: 0.25em;color: #696969;}#sk-container-id-1 label.sk-toggleable__label-arrow:hover:before {color: black;}#sk-container-id-1 div.sk-estimator:hover label.sk-toggleable__label-arrow:before {color: black;}#sk-container-id-1 div.sk-toggleable__content {max-height: 0;max-width: 0;overflow: hidden;text-align: left;background-color: #f0f8ff;}#sk-container-id-1 div.sk-toggleable__content pre {margin: 0.2em;color: black;border-radius: 0.25em;background-color: #f0f8ff;}#sk-container-id-1 input.sk-toggleable__control:checked~div.sk-toggleable__content {max-height: 200px;max-width: 100%;overflow: auto;}#sk-container-id-1 input.sk-toggleable__control:checked~label.sk-toggleable__label-arrow:before {content: \"▾\";}#sk-container-id-1 div.sk-estimator input.sk-toggleable__control:checked~label.sk-toggleable__label {background-color: #d4ebff;}#sk-container-id-1 div.sk-label input.sk-toggleable__control:checked~label.sk-toggleable__label {background-color: #d4ebff;}#sk-container-id-1 input.sk-hidden--visually {border: 0;clip: rect(1px 1px 1px 1px);clip: rect(1px, 1px, 1px, 1px);height: 1px;margin: -1px;overflow: hidden;padding: 0;position: absolute;width: 1px;}#sk-container-id-1 div.sk-estimator {font-family: monospace;background-color: #f0f8ff;border: 1px dotted black;border-radius: 0.25em;box-sizing: border-box;margin-bottom: 0.5em;}#sk-container-id-1 div.sk-estimator:hover {background-color: #d4ebff;}#sk-container-id-1 div.sk-parallel-item::after {content: \"\";width: 100%;border-bottom: 1px solid gray;flex-grow: 1;}#sk-container-id-1 div.sk-label:hover label.sk-toggleable__label {background-color: #d4ebff;}#sk-container-id-1 div.sk-serial::before {content: \"\";position: absolute;border-left: 1px solid gray;box-sizing: border-box;top: 0;bottom: 0;left: 50%;z-index: 0;}#sk-container-id-1 div.sk-serial {display: flex;flex-direction: column;align-items: center;background-color: white;padding-right: 0.2em;padding-left: 0.2em;position: relative;}#sk-container-id-1 div.sk-item {position: relative;z-index: 1;}#sk-container-id-1 div.sk-parallel {display: flex;align-items: stretch;justify-content: center;background-color: white;position: relative;}#sk-container-id-1 div.sk-item::before, #sk-container-id-1 div.sk-parallel-item::before {content: \"\";position: absolute;border-left: 1px solid gray;box-sizing: border-box;top: 0;bottom: 0;left: 50%;z-index: -1;}#sk-container-id-1 div.sk-parallel-item {display: flex;flex-direction: column;z-index: 1;position: relative;background-color: white;}#sk-container-id-1 div.sk-parallel-item:first-child::after {align-self: flex-end;width: 50%;}#sk-container-id-1 div.sk-parallel-item:last-child::after {align-self: flex-start;width: 50%;}#sk-container-id-1 div.sk-parallel-item:only-child::after {width: 0;}#sk-container-id-1 div.sk-dashed-wrapped {border: 1px dashed gray;margin: 0 0.4em 0.5em 0.4em;box-sizing: border-box;padding-bottom: 0.4em;background-color: white;}#sk-container-id-1 div.sk-label label {font-family: monospace;font-weight: bold;display: inline-block;line-height: 1.2em;}#sk-container-id-1 div.sk-label-container {text-align: center;}#sk-container-id-1 div.sk-container {/* jupyter's `normalize.less` sets `[hidden] { display: none; }` but bootstrap.min.css set `[hidden] { display: none !important; }` so we also need the `!important` here to be able to override the default hidden behavior on the sphinx rendered scikit-learn.org. See: https://github.com/scikit-learn/scikit-learn/issues/21755 */display: inline-block !important;position: relative;}#sk-container-id-1 div.sk-text-repr-fallback {display: none;}</style><div id=\"sk-container-id-1\" class=\"sk-top-container\"><div class=\"sk-text-repr-fallback\"><pre>MultinomialNB()</pre><b>In a Jupyter environment, please rerun this cell to show the HTML representation or trust the notebook. <br />On GitHub, the HTML representation is unable to render, please try loading this page with nbviewer.org.</b></div><div class=\"sk-container\" hidden><div class=\"sk-item\"><div class=\"sk-estimator sk-toggleable\"><input class=\"sk-toggleable__control sk-hidden--visually\" id=\"sk-estimator-id-1\" type=\"checkbox\" checked><label for=\"sk-estimator-id-1\" class=\"sk-toggleable__label sk-toggleable__label-arrow\">MultinomialNB</label><div class=\"sk-toggleable__content\"><pre>MultinomialNB()</pre></div></div></div></div></div>"
      ],
      "text/plain": [
       "MultinomialNB()"
      ]
     },
     "execution_count": 10,
     "metadata": {},
     "output_type": "execute_result"
    }
   ],
   "source": [
    "clf.fit(x_train,y_train)"
   ]
  },
  {
   "cell_type": "code",
   "execution_count": 11,
   "id": "809caf32",
   "metadata": {},
   "outputs": [
    {
     "data": {
      "text/plain": [
       "(10000, 784)"
      ]
     },
     "execution_count": 11,
     "metadata": {},
     "output_type": "execute_result"
    }
   ],
   "source": [
    "x_test.shape"
   ]
  },
  {
   "cell_type": "code",
   "execution_count": 12,
   "id": "cfb0daf6",
   "metadata": {},
   "outputs": [],
   "source": [
    "y_pred = clf.predict(x_test)"
   ]
  },
  {
   "cell_type": "code",
   "execution_count": 13,
   "id": "12f5d30b",
   "metadata": {},
   "outputs": [
    {
     "name": "stdout",
     "output_type": "stream",
     "text": [
      "\n",
      "Confusion Matrix:\n",
      "[[ 912    0    2    6    1    8   14    1   36    0]\n",
      " [   0 1061    5    9    0    2    6    0   51    1]\n",
      " [  15   11  858   24   10    3   33   11   66    1]\n",
      " [   4   11   34  851    1   21    7   14   40   27]\n",
      " [   2    2    6    0  732    0   25    1   38  176]\n",
      " [  23   11    6  107   18  590   17    6   78   36]\n",
      " [  17   13   17    1    7   25  860    0   18    0]\n",
      " [   1   21   11    5   19    0    1  861   40   69]\n",
      " [   6   26   13   54   14   27    8    9  777   40]\n",
      " [   6    7    3   10   66   10    0   17   27  863]]\n",
      "Classification Report:\n",
      "              precision    recall  f1-score   support\n",
      "\n",
      "           0       0.92      0.93      0.93       980\n",
      "           1       0.91      0.93      0.92      1135\n",
      "           2       0.90      0.83      0.86      1032\n",
      "           3       0.80      0.84      0.82      1010\n",
      "           4       0.84      0.75      0.79       982\n",
      "           5       0.86      0.66      0.75       892\n",
      "           6       0.89      0.90      0.89       958\n",
      "           7       0.94      0.84      0.88      1028\n",
      "           8       0.66      0.80      0.72       974\n",
      "           9       0.71      0.86      0.78      1009\n",
      "\n",
      "    accuracy                           0.84     10000\n",
      "   macro avg       0.84      0.83      0.84     10000\n",
      "weighted avg       0.84      0.84      0.84     10000\n",
      "\n",
      "Accuracy: 0.8365\n"
     ]
    }
   ],
   "source": [
    "from sklearn.metrics import classification_report, confusion_matrix, accuracy_score\n",
    "matrix = confusion_matrix(y_test, y_pred)\n",
    "print(\"\\nConfusion Matrix:\")\n",
    "print(matrix)\n",
    "c_r = classification_report(y_test, y_pred)\n",
    "print(\"Classification Report:\")\n",
    "print (c_r)\n",
    "accuracy = accuracy_score(y_test,y_pred)\n",
    "print(\"Accuracy:\",accuracy)"
   ]
  },
  {
   "cell_type": "code",
   "execution_count": 14,
   "id": "e26ec812",
   "metadata": {},
   "outputs": [],
   "source": [
    "def feature_selection(x_train,y_train,x_test,y_test,features,score):\n",
    "    clf = MultinomialNB()\n",
    "    score2 = 0\n",
    "    scores = []\n",
    "    if len(features)>23:\n",
    "        return features\n",
    "    if len(features)==0:\n",
    "        for i in range(x_train.shape[1]):\n",
    "            data=[]\n",
    "            data = x_train[:,[i]]\n",
    "            test = x_test[:,[i]]\n",
    "            clf.fit(data,y_train)\n",
    "            y_pred = clf.predict(test)\n",
    "            score2 = accuracy_score(y_test,y_pred)\n",
    "            scores.append(score2)\n",
    "    \n",
    "\n",
    "        score2 = max(scores)\n",
    "        index = scores.index(score2)\n",
    "        features.append(index)\n",
    "        if score2>score:\n",
    "            score = score2\n",
    "            feature_selection(x_train,y_train,x_test,y_test,features,score)\n",
    "        else:\n",
    "            if score2>score-0.07 and score2<score+0.07 :\n",
    "                score = score2\n",
    "                feature_selection(x_train,y_train,x_test,y_test,features,score)\n",
    "            else:\n",
    "                                \n",
    "                return features\n",
    "                \n",
    "\n",
    "\n",
    "    else:\n",
    "\n",
    "#         print(len(data))\n",
    "#         print(x_train.shape)\n",
    "#         print(1)\n",
    "        data = np.zeros((x_train.shape[0],1))\n",
    "        test = np.zeros((x_test.shape[0],1))\n",
    "        a=0\n",
    "        test = np.array(test)\n",
    "        for i in features:\n",
    "            if a==0:\n",
    "                data = x_train[:,[i]]\n",
    "                test = x_test[:,[i]]\n",
    "                a = a+1\n",
    "            else:\n",
    "                data = np.append(data,x_train[:,[i]],axis = 1)\n",
    "                test = np.append(test,x_test[:,[i]],axis = 1)\n",
    "\n",
    "\n",
    "        x_train = np.delete(x_train,features[-1],axis = 1)\n",
    "\n",
    "        for j in range(0,x_train.shape[1]):\n",
    "#             a = a+1\n",
    "#             print(a)\n",
    "            data = np.append(data,x_train[:,j].reshape(-1,1),axis=1)\n",
    "            clf.fit(data,y_train)\n",
    "            test = np.append(test,x_test[:,j].reshape(-1,1),axis=1)\n",
    "            y_pred = clf.predict(test)\n",
    "            score2 = accuracy_score(y_test,y_pred)\n",
    "            scores.append(score2)\n",
    "            data = np.delete(data,-1,axis=1)\n",
    "            test = np.delete(test,-1,axis=1)\n",
    "\n",
    "        score2 = max(scores)\n",
    "        index = scores.index(score2)\n",
    "        features.append(index)\n",
    "        if len(features)==784:\n",
    "            return features\n",
    "        else:\n",
    "            if score2>score:\n",
    "                score = score2\n",
    "                feature_selection(x_train,y_train,x_test,y_test,features,score)\n",
    "            else:\n",
    "                if score2>score-0.07 and score2<score+0.07:\n",
    "                    score = score2\n",
    "                    feature_selection(x_train,y_train,x_test,y_test,features,score)\n",
    "                else:\n",
    "                                \n",
    "                    return features\n",
    "    \n",
    "            \n",
    "        \n",
    "        \n",
    "        \n",
    "        \n",
    "        \n"
   ]
  },
  {
   "cell_type": "code",
   "execution_count": 15,
   "id": "78f5053e",
   "metadata": {},
   "outputs": [],
   "source": [
    "\n",
    "features = []\n",
    "score = 0\n",
    "x_train_new = np.copy(x_train)\n",
    "x_test_new = np.copy(x_test)\n",
    "feature_selection(x_train_new,y_train,x_test_new,y_test,features,score)\n",
    "\n",
    "        "
   ]
  },
  {
   "cell_type": "code",
   "execution_count": null,
   "id": "d073ab36",
   "metadata": {},
   "outputs": [],
   "source": []
  },
  {
   "cell_type": "code",
   "execution_count": 16,
   "id": "ea46b66a",
   "metadata": {},
   "outputs": [],
   "source": [
    "data = np.zeros((x_train.shape[0],1))\n",
    "test = np.zeros((x_test.shape[0],1))\n",
    "a=0\n",
    "test = np.array(test)\n",
    "for i in features:\n",
    "    if a==0:\n",
    "        data = x_train[:,[i]]\n",
    "        test = x_test[:,[i]]\n",
    "        a = a+1\n",
    "    else:\n",
    "        data = np.append(data,x_train[:,[i]],axis = 1)\n",
    "        test = np.append(test,x_test[:,[i]],axis = 1)"
   ]
  },
  {
   "cell_type": "code",
   "execution_count": 17,
   "id": "444b70bc",
   "metadata": {},
   "outputs": [
    {
     "name": "stdout",
     "output_type": "stream",
     "text": [
      "\n",
      "Confusion Matrix:\n",
      "[[ 762    0   13   81   15   27   45   10   15   12]\n",
      " [   1 1028   15   23    8    0    3   16   40    1]\n",
      " [  37   80  564   54   45   16  121   17   76   22]\n",
      " [  21   10   33  742   11   55    7   57   63   11]\n",
      " [  11    4   18   17  460   11  112   64   26  259]\n",
      " [  36   33   33  205   34  446   25   32   43    5]\n",
      " [  49   20   41    3   63   22  723    6    7   24]\n",
      " [  17   27   17   33   29    7   25  747   66   60]\n",
      " [  14   99  134   63   21   49   20   50  505   19]\n",
      " [  13   17    8   24  122    6   27  231   17  544]]\n",
      "Classification Report:\n",
      "              precision    recall  f1-score   support\n",
      "\n",
      "           0       0.79      0.78      0.79       980\n",
      "           1       0.78      0.91      0.84      1135\n",
      "           2       0.64      0.55      0.59      1032\n",
      "           3       0.60      0.73      0.66      1010\n",
      "           4       0.57      0.47      0.51       982\n",
      "           5       0.70      0.50      0.58       892\n",
      "           6       0.65      0.75      0.70       958\n",
      "           7       0.61      0.73      0.66      1028\n",
      "           8       0.59      0.52      0.55       974\n",
      "           9       0.57      0.54      0.55      1009\n",
      "\n",
      "    accuracy                           0.65     10000\n",
      "   macro avg       0.65      0.65      0.64     10000\n",
      "weighted avg       0.65      0.65      0.65     10000\n",
      "\n",
      "Accuracy: 0.6521\n"
     ]
    }
   ],
   "source": [
    "clf = MultinomialNB()\n",
    "clf.fit(data,y_train)\n",
    "y_pred = clf.predict(test)\n",
    "\n",
    "matrix = confusion_matrix(y_test, y_pred)\n",
    "print(\"\\nConfusion Matrix:\")\n",
    "print(matrix)\n",
    "c_r = classification_report(y_test, y_pred)\n",
    "print(\"Classification Report:\")\n",
    "print (c_r)\n",
    "accuracy = accuracy_score(y_test,y_pred)\n",
    "print(\"Accuracy:\",accuracy)"
   ]
  },
  {
   "cell_type": "code",
   "execution_count": 18,
   "id": "63c6b575",
   "metadata": {},
   "outputs": [
    {
     "name": "stdout",
     "output_type": "stream",
     "text": [
      "[0, 410, 468, 301, 150, 581, 189, 354, 475, 128, 247, 354, 206, 365, 156, 414, 465, 516, 382, 459, 655, 255, 428, 625]\n"
     ]
    }
   ],
   "source": [
    "print(features)"
   ]
  },
  {
   "cell_type": "code",
   "execution_count": null,
   "id": "36e12fcb",
   "metadata": {},
   "outputs": [],
   "source": []
  },
  {
   "cell_type": "code",
   "execution_count": null,
   "id": "c23205fe",
   "metadata": {},
   "outputs": [],
   "source": []
  },
  {
   "cell_type": "code",
   "execution_count": null,
   "id": "aaa48069",
   "metadata": {},
   "outputs": [],
   "source": []
  }
 ],
 "metadata": {
  "kernelspec": {
   "display_name": "Python 3 (ipykernel)",
   "language": "python",
   "name": "python3"
  },
  "language_info": {
   "codemirror_mode": {
    "name": "ipython",
    "version": 3
   },
   "file_extension": ".py",
   "mimetype": "text/x-python",
   "name": "python",
   "nbconvert_exporter": "python",
   "pygments_lexer": "ipython3",
   "version": "3.10.6"
  }
 },
 "nbformat": 4,
 "nbformat_minor": 5
}
